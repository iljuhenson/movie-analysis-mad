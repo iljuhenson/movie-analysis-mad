{
 "cells": [
  {
   "cell_type": "markdown",
   "id": "25f4d1ab-fffe-4a51-a655-58c860b744a3",
   "metadata": {},
   "source": [
    "# Klasyfikacja stopnia sukcesu filmu przy pomocy klasyfikatorów"
   ]
  },
  {
   "cell_type": "markdown",
   "id": "1331b5fb-ef9f-40c0-979e-65706d189183",
   "metadata": {},
   "source": [
    "Ilya Pauliuk (217344), Adam Ropelewski (217518), Dawid Rychlik (217264), Jakub\n",
    "Szala (217367)"
   ]
  },
  {
   "cell_type": "markdown",
   "id": "95cfefad-98bf-4f75-8797-2a08abd25f6e",
   "metadata": {},
   "source": [
    "## Streszczenie"
   ]
  },
  {
   "cell_type": "raw",
   "id": "c60db6ba-1d3e-4a10-b2c9-de64b54cdd21",
   "metadata": {},
   "source": [
    "W latach osiemdziesiątych obejrzenie filmu wymagało wizyty w kinie lub ograniczenie się do reperteuru proponowanego przez telewizję. Te tak zwane klasyki kina odnosiły wtedy wielkie sukcesy finansowe i na stałe utwardziły się w świadomości społeczeństwa. Za tow  dzisiejszych czasach, ze swobodonym dostępem do popkultury, jesteśmy zasypywani mnóstwem filmów dostępnych w formie DVD lub bardziej popularnie na serwisach streamingowych. Określenie czy pomysł na dany film okaże się box-officowym sukcesem okazuje się problematyczne lub kosztowne."
   ]
  },
  {
   "cell_type": "markdown",
   "id": "6cb62d67-83ca-4b8e-ae7c-a9713c5b7fa5",
   "metadata": {},
   "source": [
    "Nasz projekt polega na wytrenowaniu modelu, który rozwiążę ten problem. Przy pomocy klasyfikacji metodami x i d dzielimy na x grup w zależności od spodziewanego tryumfu finansowego. Model trenujemy na 69 mln danych z serwisu Netflix. "
   ]
  },
  {
   "cell_type": "markdown",
   "id": "4d6ddead-4600-4f12-83f0-878c0af21620",
   "metadata": {},
   "source": [
    "## Słowa kluczowe"
   ]
  },
  {
   "cell_type": "markdown",
   "id": "4cb71cbc-0991-4cc2-aa76-416791799200",
   "metadata": {},
   "source": [
    "filmy, netflix, klasyfikacja metodami x i d"
   ]
  },
  {
   "cell_type": "markdown",
   "id": "e66d5bf6-5de2-46a1-899f-5581166125f3",
   "metadata": {},
   "source": [
    "## Dane"
   ]
  },
  {
   "cell_type": "code",
   "execution_count": null,
   "id": "17353831-760c-47ee-98b2-771418a4fd23",
   "metadata": {},
   "outputs": [],
   "source": []
  },
  {
   "cell_type": "code",
   "execution_count": null,
   "id": "8c9a4d4d-4a49-4799-abb9-6fbbf21437e7",
   "metadata": {},
   "outputs": [],
   "source": []
  }
 ],
 "metadata": {
  "kernelspec": {
   "display_name": "Python 3 (ipykernel)",
   "language": "python",
   "name": "python3"
  },
  "language_info": {
   "codemirror_mode": {
    "name": "ipython",
    "version": 3
   },
   "file_extension": ".py",
   "mimetype": "text/x-python",
   "name": "python",
   "nbconvert_exporter": "python",
   "pygments_lexer": "ipython3",
   "version": "3.12.2"
  }
 },
 "nbformat": 4,
 "nbformat_minor": 5
}
