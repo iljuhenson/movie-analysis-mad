{
 "cells": [
  {
   "cell_type": "markdown",
   "id": "25f4d1ab-fffe-4a51-a655-58c860b744a3",
   "metadata": {},
   "source": [
    "# Klasyfikacja stopnia sukcesu filmu"
   ]
  },
  {
   "cell_type": "markdown",
   "id": "1331b5fb-ef9f-40c0-979e-65706d189183",
   "metadata": {},
   "source": [
    "Ilya Pauliuk (217344), Adam Ropelewski (217518), Dawid Rychlik (217264), Jakub\n",
    "Szala (217367)"
   ]
  },
  {
   "cell_type": "markdown",
   "id": "d36e635b-5afd-41a2-9232-52c6c73b1a4a",
   "metadata": {},
   "source": [
    "## Streszczenie"
   ]
  },
  {
   "cell_type": "markdown",
   "id": "989887a9-6c91-448d-9b8f-7adb568ca88d",
   "metadata": {},
   "source": [
    "Wykonany przez nas projekt zajmuję się klasyfikacją filmów ze względu na spodziewaną ocenę przez ich odbiorców. W tym celu wykorzystujemy sprawdzone metody klasyfikacji, które mają swoje implementację w bibliotece scikit-learn. Wymagało to dokładnej obróbki danych. \n",
    "\n",
    "[dopisać lekkie wnioseki na podstawie wyniku]"
   ]
  },
  {
   "cell_type": "markdown",
   "id": "4d6ddead-4600-4f12-83f0-878c0af21620",
   "metadata": {},
   "source": [
    "## Słowa kluczowe"
   ]
  },
  {
   "cell_type": "markdown",
   "id": "4cb71cbc-0991-4cc2-aa76-416791799200",
   "metadata": {},
   "source": [
    "filmy, netflix, klasyfikacja metodami x i d, klasteryzacja metodą k-średnich"
   ]
  },
  {
   "cell_type": "markdown",
   "id": "95cfefad-98bf-4f75-8797-2a08abd25f6e",
   "metadata": {},
   "source": [
    "## Wstęp"
   ]
  },
  {
   "cell_type": "markdown",
   "id": "8bc6b361-2104-491f-92c1-159efa6a12da",
   "metadata": {},
   "source": [
    "W latach osiemdziesiątych obejrzenie filmu wymagało wizyty w kinie lub ograniczenie się do reperteuru proponowanego przez telewizję. W erze, gdy kino było jeszcze ekscytującą nowością, każdy postęp w dziedzinie kinematografii czy to w reżyserii czy w efektach specjalnych sprawiał, że dzieło utrwalało się pozytywnie w pamięci widzów. Te czasy jednak minęły, a coraz to bardziej ekstrawaganckie elementy dokonywane w postprodukcji nie robią już tak dużego wrażenia.\n"
   ]
  },
  {
   "cell_type": "markdown",
   "id": "6cb62d67-83ca-4b8e-ae7c-a9713c5b7fa5",
   "metadata": {},
   "source": [
    " Teraz dostęp do popkultury jest na wyciągnięcie ręki, kilka kliknięć pozwala nam przeglądać niezliczone biblioteki serwisów streamingowych takich jak Netflix, Max, Hulu, Disney+ etc. Jesteśmy zasypywani rzeszami filmów, wiele z nich zapominamy po tygodniu. Określenie czy dane dzieło kina wzbudzi w przeciętnym odbiorcy pozytywną reakcję, tym samym zasługując by dana platforma go zakupiła jest zadaniem niełatwym. W dodatku biorąc pod uwagę dotychczasową ilość stworzonych ekranizacji i tworzonych co roku - czasochłonynym. "
   ]
  },
  {
   "cell_type": "markdown",
   "id": "da550179-908f-4d16-9f9c-67c6ca9d9c6d",
   "metadata": {},
   "source": [
    "W celu stworzenia modelu statystycznego wykorzystujemy dane około 26 mln ocen poszczególnych użytkowników platformy Netflix. W owych danych pojawiły się liczne braki wymagające obsłużenia. "
   ]
  },
  {
   "cell_type": "markdown",
   "id": "2e58a602-361e-41cd-86b3-5d9427e26c6c",
   "metadata": {},
   "source": [
    "Po przetworzeniu danych zajeliśmy się klasteryzacją przy pomocy metody k-średnich, testując jakie parametry tej metody będą najkorzystniejsze"
   ]
  },
  {
   "cell_type": "markdown",
   "id": "e66d5bf6-5de2-46a1-899f-5581166125f3",
   "metadata": {},
   "source": [
    "## Opis danych wejściowych"
   ]
  },
  {
   "cell_type": "markdown",
   "id": "10a25698-6e24-4f16-b0e1-5023d01fef57",
   "metadata": {},
   "source": [
    "Dane pozyskaliśmy z serwisu keggel. 26 mln ocen poszczególnych użytkowników platformy Netflix należało zsumować i przydzielić do konkretnych filmów, obliczając średnią. Kluczowym zadaniem było obsłużenie danych brakujących, funkcje biblioteki scikit-learn nie pozwalają na zbiory danych, w których nie ma wszystkich wartości.\n",
    "\n",
    "W ten sposób uzyskaliśmy dane wyjściowe, które możemy wykorzystać do treningu modelu statystycznego. Każdy film posiada jedenaście cech:"
   ]
  },
  {
   "cell_type": "markdown",
   "id": "8bb5de83-9623-4299-bda1-35de0d4ff78a",
   "metadata": {},
   "source": [
    "1. Średnia ocena użytkowników\n",
    "2. Czy to film dla dorosłych\n",
    "3. Budżet\n",
    "4. Gatunek\n",
    "5. Język orginału\n",
    "6. Data premiery\n",
    "7. Przychód\n",
    "8. Ilość dubbingów\n",
    "9. Czas trwania\n",
    "10. Kraje produkcji\n",
    "11. Liczba głosów"
   ]
  },
  {
   "attachments": {},
   "cell_type": "markdown",
   "id": "bd8afe29-bae3-4ba7-ac91-22f84eaa8920",
   "metadata": {},
   "source": [
    "### Średnia ocena użytkowników\n",
    "\n",
    "To wartość liczbowa reprezentująca przeciętną ocenę przyznaną filmowi przez użytkowników na platformie Netflix. Skala wynosi od 0 do 5. Wysoka średnia ocena zazwyczaj przekłada się na pozytywne przyjęcie filmu przez publiczność.\n",
    "\n",
    "### Czy to film dla dorosłych\n",
    "\n",
    "Zmienna binarna (tak/nie), która wskazuje, czy film został sklasyfikowany jako przeznaczony wyłącznie dla dorosłych (np. ze względu na treści erotyczne, przemoc, itp.). Zakres wartości: 0 (nie), 1 (tak).\n",
    "\n",
    "### Budżet\n",
    "\n",
    "Całkowity koszt produkcji filmu, podany w walucie (najczęściej w dolarach amerykańskich). Zakres wartości: od tysięcy do setek milionów dolarów. Budżet potrafi wpłynąć znacząco na sukces wśród widowni, choć wiele klasyków kina pokazało, że i z niskim budżetem można wywrzeć wrażenie na publiczności. \n",
    "\n",
    "### Gatunek\n",
    "\n",
    "Kategoria tematyczna filmu (np. komedia, dramat, horror, science fiction). Zakres wartości: jeden lub więcej z kilkunastu gatunków filmowych. Można się spodziewać, że pewne gatunki przyciągają większą widownię. \n",
    "\n",
    "### Język oryginału\n",
    "\n",
    "Język, w którym film został pierwotnie nakręcony i wyprodukowany. Zakres wartości: id języka będące liczbą całkowitą dodatnią. Filmy, których orginalny język jest popularny na świecie jak angielski, chiński czy hiszpański zazwyczaj trafiają do większej ilości odbiorców. \n",
    "\n",
    "### Data premiery\n",
    "\n",
    "Dokładna data, kiedy film został po raz pierwszy wyświetlony publicznie. Zakres wartości: format daty (YYYY-MM-DD). Istnieją okresy, w których filmy danej epoki wracają do popularności. \n",
    "\n",
    "### Przychód\n",
    "\n",
    "Całkowity dochód wygenerowany przez film z biletów kinowych i innych źródeł, podany w walucie (najczęściej w dolarach amerykańskich). Zakres wartości: od tysięcy do miliardów dolarów. Przychód jest wskaźnikiem komercyjnego sukcesu filmu, zazwyczaj przekłada się na ocenę filmu.\n",
    "\n",
    "### Ilość dubbingów\n",
    "\n",
    "Liczba różnych języków, na które film został przetłumaczony. Zakres wartości: może wynosić od 0 do kilkudziesięciu. Dubbing pozostaje jedną z najbardziej popularnych form odbioru firmu przez obcokrajowców. \n",
    "\n",
    "### Czas trwania\n",
    "\n",
    "Całkowity czas trwania filmu, podany w minutach. Zakres wartości: od około 20 minotwych do nawet ponad 200 minut. Czas trwania bezpośrednio ma spory wpływ na recenzje, filmy stanowczo za długie stają się nużące bez dobrego reżysera, a za krótkie dają uczucie dysatysfkacji. \n",
    "\n",
    "### Kraje produkcji\n",
    "\n",
    "Lista krajów, które brały udział w produkcji filmu. Zakres wartości: jeden lub więcej krajów.\n",
    "\n",
    "### Liczba głosów\n",
    "\n",
    "Całkowita liczba ocen oddanych przez użytkowników na platformach recenzujących. Zakres wartości: może wynosić od kilku do milionów. Większa liczba głosów przekłada się na popularność i wiarygodność średniej oceny filmu."
   ]
  },
  {
   "cell_type": "markdown",
   "id": "87aac1b1-f249-4de7-bac9-1cffbfcadb8b",
   "metadata": {},
   "source": [
    "## Wizualizacja danych"
   ]
  },
  {
   "cell_type": "markdown",
   "id": "6b848b40-9f5b-4e0c-9bfb-e3ea341f0258",
   "metadata": {},
   "source": [
    "Do wizualizacji wykorzystujemy histogramy. "
   ]
  },
  {
   "cell_type": "code",
   "execution_count": null,
   "id": "d57598e5-b6c0-4c0f-9b36-0c059a2f863a",
   "metadata": {},
   "outputs": [],
   "source": [
    "import pandas as pd\n",
    "import matplotlib.pyplot as plt\n",
    "import seaborn as sns\n",
    "\n",
    "file_path = \"output/movies_relevant_data.csv\"\n",
    "movies_df = pd.read_csv(file_path)\n",
    "\n",
    "numerical_columns = [\n",
    "    #\"movieId\",\n",
    "    \"avg_of_rating\",\n",
    "    \"adult\",\n",
    "    \"budget\",\n",
    "    \"genres\",\n",
    "    \"original_language\",\n",
    "    \"release_date\",\n",
    "    \"revenue\",\n",
    "    \"spoken_languages\",\n",
    "    \"runtime\",\n",
    "    \"production_countries\",\n",
    "    \"vote_count\",\n",
    "]\n",
    "plt.figure(figsize=(15, 10))\n",
    "for i, col in enumerate(numerical_columns, 1):\n",
    "    plt.subplot(3, 4, i)\n",
    "    sns.histplot(movies_df[col])\n",
    "    plt.title(f'Distribution of {col}')\n",
    "    plt.xlabel(col)\n",
    "    plt.ylabel('Frequency')\n",
    "\n",
    "plt.tight_layout()\n",
    "plt.show()\n",
    "\n",
    "# Plotting the relationship between budget and worldwide gross revenue\n",
    "plt.figure(figsize=(12, 6))\n",
    "sns.scatterplot(x='budget', y='revenue', data=movies_df)\n",
    "plt.title('Relationship between Budget and Revenue')\n",
    "plt.xlabel('Budget')\n",
    "plt.ylabel('Revenue')\n",
    "plt.show()\n",
    "\n",
    "# Plotting the relationship between domestic and international gross revenue\n",
    "plt.figure(figsize=(12, 6))\n",
    "sns.scatterplot(x='avg_of_rating', y='budget', data=movies_df)\n",
    "plt.title('Relationship between Budget and Average movie rating')\n",
    "plt.xlabel('Budget')\n",
    "plt.ylabel('Avg of Rating')\n",
    "plt.show()\n",
    "\n",
    "# Plotting the trend of worldwide gross revenue over the years\n",
    "plt.figure(figsize=(12, 6))\n",
    "sns.lineplot(x='release_date', y='revenue', data=movies_df)\n",
    "plt.title('Trend of Revenue Over the Years')\n",
    "plt.xlabel('Date')\n",
    "plt.ylabel('Revenue')\n",
    "plt.show()\n",
    "\n",
    "# # Plotting the trend of budget over the years\n",
    "plt.figure(figsize=(12, 6))\n",
    "sns.lineplot(x='release_date', y='budget', data=movies_df)\n",
    "plt.title('Trend of Budget Over the Years')\n",
    "plt.xlabel('Date')\n",
    "plt.ylabel('Budget')\n",
    "plt.show()"
   ]
  },
  {
   "cell_type": "markdown",
   "id": "a87b7470-9b0f-436a-b266-a4082bff27ae",
   "metadata": {},
   "source": [
    "## Grupowanie"
   ]
  },
  {
   "cell_type": "markdown",
   "id": "8746ecdd-70da-4735-b49d-fcc2b6b69303",
   "metadata": {},
   "source": [
    "## Uzyskane wyniki"
   ]
  },
  {
   "cell_type": "markdown",
   "id": "fe6f5792-27e6-49bc-9263-2b941de045c9",
   "metadata": {},
   "source": [
    "## Wnioski"
   ]
  },
  {
   "cell_type": "markdown",
   "id": "0c71be1f-dcac-48dc-9301-7b14fccc6024",
   "metadata": {},
   "source": [
    "## Bibliografia"
   ]
  },
  {
   "cell_type": "code",
   "execution_count": null,
   "id": "9aba06ce-c038-4672-ad1d-bdc6755c4ef1",
   "metadata": {},
   "outputs": [],
   "source": []
  }
 ],
 "metadata": {
  "kernelspec": {
   "display_name": "Python 3 (ipykernel)",
   "language": "python",
   "name": "python3"
  },
  "language_info": {
   "codemirror_mode": {
    "name": "ipython",
    "version": 3
   },
   "file_extension": ".py",
   "mimetype": "text/x-python",
   "name": "python",
   "nbconvert_exporter": "python",
   "pygments_lexer": "ipython3",
   "version": "3.12.2"
  }
 },
 "nbformat": 4,
 "nbformat_minor": 5
}
