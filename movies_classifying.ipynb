{
 "cells": [
  {
   "cell_type": "markdown",
   "id": "25f4d1ab-fffe-4a51-a655-58c860b744a3",
   "metadata": {},
   "source": [
    "# Klasyfikacja stopnia sukcesu filmu"
   ]
  },
  {
   "cell_type": "markdown",
   "id": "71c5d763-377a-4bf1-83f0-b3b6e0017e59",
   "metadata": {},
   "source": [
    "## Autorzy"
   ]
  },
  {
   "cell_type": "markdown",
   "id": "1331b5fb-ef9f-40c0-979e-65706d189183",
   "metadata": {},
   "source": [
    "Ilya Pauliuk (217344), Adam Ropelewski (217518), Dawid Rychlik (217264), Jakub\n",
    "Szala (217367)"
   ]
  },
  {
   "cell_type": "markdown",
   "id": "d36e635b-5afd-41a2-9232-52c6c73b1a4a",
   "metadata": {},
   "source": [
    "## Streszczenie"
   ]
  },
  {
   "cell_type": "markdown",
   "id": "989887a9-6c91-448d-9b8f-7adb568ca88d",
   "metadata": {},
   "source": [
    "Wykonany przez nas projekt zajmuję się klasyfikacją filmów ze względu na spodziewaną ocenę przez ich odbiorców. W tym celu wykorzystujemy sprawdzone metody klasyfikacji, które mają swoje implementację w bibliotece scikit-learn. Wymagało to dokładnej obróbki danych. \n",
    "\n",
    "[dopisać lekkie wnioseki na podstawie wyniku]"
   ]
  },
  {
   "cell_type": "markdown",
   "id": "4d6ddead-4600-4f12-83f0-878c0af21620",
   "metadata": {},
   "source": [
    "## Słowa kluczowe"
   ]
  },
  {
   "cell_type": "markdown",
   "id": "4cb71cbc-0991-4cc2-aa76-416791799200",
   "metadata": {},
   "source": [
    "Filmy, netflix, klasyfikacja metodami x i d, klasteryzacja metodą k-średnich"
   ]
  },
  {
   "cell_type": "markdown",
   "id": "95cfefad-98bf-4f75-8797-2a08abd25f6e",
   "metadata": {},
   "source": [
    "## Wprowadzenie"
   ]
  },
  {
   "cell_type": "markdown",
   "id": "8bc6b361-2104-491f-92c1-159efa6a12da",
   "metadata": {},
   "source": [
    "W latach osiemdziesiątych obejrzenie filmu wymagało wizyty w kinie lub ograniczenie się do reperteuru proponowanego przez telewizję. W erze, gdy kino było jeszcze ekscytującą nowością, każdy postęp w dziedzinie kinematografii czy to w reżyserii czy w efektach specjalnych sprawiał, że dzieło utrwalało się pozytywnie w pamięci widzów. Te czasy jednak minęły, a coraz to bardziej ekstrawaganckie elementy dokonywane w postprodukcji nie robią już tak dużego wrażenia.\n"
   ]
  },
  {
   "cell_type": "markdown",
   "id": "6cb62d67-83ca-4b8e-ae7c-a9713c5b7fa5",
   "metadata": {},
   "source": [
    " Teraz dostęp do popkultury jest na wyciągnięcie ręki, kilka kliknięć pozwala nam przeglądać niezliczone biblioteki serwisów streamingowych takich jak Netflix, Max, Hulu, Disney+ etc. Jesteśmy zasypywani rzeszami filmów, wiele z nich zapominamy po tygodniu. Określenie czy dane dzieło kina wzbudzi w przeciętnym odbiorcy pozytywną reakcję, tym samym zasługując by dana platforma go zakupiła jest zadaniem niełatwym. W dodatku biorąc pod uwagę dotychczasową ilość stworzonych ekranizacji i tworzonych co roku - czasochłonynym. "
   ]
  },
  {
   "cell_type": "markdown",
   "id": "da550179-908f-4d16-9f9c-67c6ca9d9c6d",
   "metadata": {},
   "source": [
    "W celu stworzenia modelu statystycznego wykorzystujemy dane około 26 mln ocen poszczególnych użytkowników platformy Netflix. W owych danych pojawiły się liczne braki wymagające obsłużenia. "
   ]
  },
  {
   "cell_type": "markdown",
   "id": "2e58a602-361e-41cd-86b3-5d9427e26c6c",
   "metadata": {},
   "source": [
    "Po przetworzeniu danych zajeliśmy się klasteryzacją przy pomocy metody k-średnich, testując jakie parametry tej metody będą najkorzystniejsze"
   ]
  },
  {
   "cell_type": "markdown",
   "id": "e66d5bf6-5de2-46a1-899f-5581166125f3",
   "metadata": {},
   "source": [
    "## Opis danych wejściowych"
   ]
  },
  {
   "cell_type": "markdown",
   "id": "10a25698-6e24-4f16-b0e1-5023d01fef57",
   "metadata": {},
   "source": [
    "Dane pozyskaliśmy z serwisu keggel. 26 mln ocen poszczególnych użytkowników platformy Netflix należało zsumować i przydzielić do konkretnych filmów, obliczając średnią. Kluczowym zadaniem było obsłużenie danych brakujących, funkcje biblioteki scikit-learn nie pozwalają na zbiory danych, w których nie ma wszystkich wartości.\n",
    "\n",
    "W ten sposób uzyskaliśmy dane wyjściowe, które możemy wykorzystać do treningu modelu statystycznego. Każdy film posiada jedenaście cech:"
   ]
  },
  {
   "cell_type": "markdown",
   "id": "8bb5de83-9623-4299-bda1-35de0d4ff78a",
   "metadata": {},
   "source": [
    "1. Średnia ocena użytkowników\n",
    "2. Czy to film dla dorosłych\n",
    "3. Budżet\n",
    "4. Gatunek\n",
    "5. Język orginału\n",
    "6. Data premiery\n",
    "7. Przychód\n",
    "8. Ilość dubbingów\n",
    "9. Czas trwania\n",
    "10. Kraje produkcji\n",
    "11. Liczba głosów"
   ]
  },
  {
   "attachments": {},
   "cell_type": "markdown",
   "id": "bd8afe29-bae3-4ba7-ac91-22f84eaa8920",
   "metadata": {},
   "source": [
    "### Średnia ocena użytkowników\n",
    "\n",
    "To wartość liczbowa reprezentująca przeciętną ocenę przyznaną filmowi przez użytkowników na platformie Netflix. Skala wynosi od 0 do 5. Wysoka średnia ocena zazwyczaj przekłada się na pozytywne przyjęcie filmu przez publiczność.\n",
    "\n",
    "### Czy to film dla dorosłych\n",
    "\n",
    "Zmienna binarna (tak/nie), która wskazuje, czy film został sklasyfikowany jako przeznaczony wyłącznie dla dorosłych (np. ze względu na treści erotyczne, przemoc, itp.). Zakres wartości: 0 (nie), 1 (tak).\n",
    "\n",
    "### Budżet\n",
    "\n",
    "Całkowity koszt produkcji filmu, podany w walucie (najczęściej w dolarach amerykańskich). Zakres wartości: od tysięcy do setek milionów dolarów. Budżet potrafi wpłynąć znacząco na sukces wśród widowni, choć wiele klasyków kina pokazało, że i z niskim budżetem można wywrzeć wrażenie na publiczności. \n",
    "\n",
    "### Gatunek\n",
    "\n",
    "Kategoria tematyczna filmu (np. komedia, dramat, horror, science fiction). Zakres wartości: jeden lub więcej z kilkunastu gatunków filmowych. Można się spodziewać, że pewne gatunki przyciągają większą widownię. \n",
    "\n",
    "### Język oryginału\n",
    "\n",
    "Język, w którym film został pierwotnie nakręcony i wyprodukowany. Zakres wartości: id języka będące liczbą całkowitą dodatnią. Filmy, których orginalny język jest popularny na świecie jak angielski, chiński czy hiszpański zazwyczaj trafiają do większej ilości odbiorców. \n",
    "\n",
    "### Data premiery\n",
    "\n",
    "Dokładna data, kiedy film został po raz pierwszy wyświetlony publicznie. Zakres wartości: format daty (YYYY-MM-DD). Istnieją okresy, w których filmy danej epoki wracają do popularności. \n",
    "\n",
    "### Przychód\n",
    "\n",
    "Całkowity dochód wygenerowany przez film z biletów kinowych i innych źródeł, podany w walucie (najczęściej w dolarach amerykańskich). Zakres wartości: od tysięcy do miliardów dolarów. Przychód jest wskaźnikiem komercyjnego sukcesu filmu, zazwyczaj przekłada się na ocenę filmu.\n",
    "\n",
    "### Ilość dubbingów\n",
    "\n",
    "Liczba różnych języków, na które film został przetłumaczony. Zakres wartości: może wynosić od 0 do kilkudziesięciu. Dubbing pozostaje jedną z najbardziej popularnych form odbioru firmu przez obcokrajowców. \n",
    "\n",
    "### Czas trwania\n",
    "\n",
    "Całkowity czas trwania filmu, podany w minutach. Zakres wartości: od około 20 minotwych do nawet ponad 200 minut. Czas trwania bezpośrednio ma spory wpływ na recenzje, filmy stanowczo za długie stają się nużące bez dobrego reżysera, a za krótkie dają uczucie dysatysfkacji. \n",
    "\n",
    "### Kraje produkcji\n",
    "\n",
    "Lista krajów, które brały udział w produkcji filmu. Zakres wartości: jeden lub więcej krajów.\n",
    "\n",
    "### Liczba głosów\n",
    "\n",
    "Całkowita liczba ocen oddanych przez użytkowników na platformach recenzujących. Zakres wartości: może wynosić od kilku do milionów. Większa liczba głosów przekłada się na popularność i wiarygodność średniej oceny filmu."
   ]
  },
  {
   "cell_type": "markdown",
   "id": "87aac1b1-f249-4de7-bac9-1cffbfcadb8b",
   "metadata": {},
   "source": [
    "## Wizualizacja danych"
   ]
  },
  {
   "cell_type": "markdown",
   "id": "6b848b40-9f5b-4e0c-9bfb-e3ea341f0258",
   "metadata": {},
   "source": [
    "Do wizualizacji danych, używamy biblioteki pyplot i seaborn."
   ]
  },
  {
   "cell_type": "markdown",
   "id": "b0dfad31-a25a-45b6-9c2c-981ba950b0c8",
   "metadata": {},
   "source": [
    "#### Importowanie bibliotek i danych z pliku .csv"
   ]
  },
  {
   "cell_type": "code",
   "execution_count": null,
   "id": "d57598e5-b6c0-4c0f-9b36-0c059a2f863a",
   "metadata": {},
   "outputs": [
    {
     "ename": "",
     "evalue": "",
     "output_type": "error",
     "traceback": [
      "\u001b[1;31mRunning cells with 'venv (Python 3.12.3)' requires the ipykernel package.\n",
      "\u001b[1;31mRun the following command to install 'ipykernel' into the Python environment. \n",
      "\u001b[1;31mCommand: 'c:/Users/Dawid/Desktop/movie-analysis-mad/venv/Scripts/python.exe -m pip install ipykernel -U --force-reinstall'"
     ]
    }
   ],
   "source": [
    "import pandas as pd\n",
    "import matplotlib.pyplot as plt\n",
    "import seaborn as sns\n",
    "\n",
    "file_path = \"output/movies_relevant_data.csv\"\n",
    "movies_df = pd.read_csv(file_path)\n",
    "movies_df['release_date'] = movies_df['release_date'] / 100\n",
    "\n",
    "\n",
    "numerical_columns = [\n",
    "    #\"movieId\",\n",
    "    \"avg_of_rating\",\n",
    "    #\"adult\",\n",
    "    \"budget\",\n",
    "    #\"genres\",\n",
    "    \"original_language\",\n",
    "    \"release_date\",\n",
    "    \"revenue\",\n",
    "    #\"spoken_languages\",\n",
    "    \"runtime\",\n",
    "    \"production_countries\",\n",
    "    \"vote_count\",\n",
    "]\n",
    "\n",
    "# polskie nazwy kolumn\n",
    "polish_column_names = [\n",
    "    #\"Identyfikator filmu\",\n",
    "    \"średnich ocen\",\n",
    "    #\"Film dla dorosłych\",\n",
    "    \"budżetu\",\n",
    "    #\"Gatunek\",\n",
    "    \"język oryginalnego\",\n",
    "    \"daty premiery\",\n",
    "    \"dochodu\",\n",
    "    #\"Języki mówione\",\n",
    "    \"czasu trwania\",\n",
    "    \"krajów produkcji\",\n",
    "    \"liczby ocen\",\n",
    "]"
   ]
  },
  {
   "cell_type": "markdown",
   "id": "2c0e44d5-60cb-4119-86e9-11fd2a3912f4",
   "metadata": {},
   "source": [
    "#### Dystrybucja cech"
   ]
  },
  {
   "cell_type": "code",
   "execution_count": null,
   "id": "613e2a9d-7fe4-4118-910b-c2283faa8163",
   "metadata": {},
   "outputs": [
    {
     "ename": "",
     "evalue": "",
     "output_type": "error",
     "traceback": [
      "\u001b[1;31mRunning cells with 'venv (Python 3.12.3)' requires the ipykernel package.\n",
      "\u001b[1;31mRun the following command to install 'ipykernel' into the Python environment. \n",
      "\u001b[1;31mCommand: 'c:/Users/Dawid/Desktop/movie-analysis-mad/venv/Scripts/python.exe -m pip install ipykernel -U --force-reinstall'"
     ]
    }
   ],
   "source": [
    "plt.figure(figsize=(15, 10))\n",
    "for i, col in enumerate(numerical_columns, 1):\n",
    "    plt.subplot(3, 4, i)\n",
    "    sns.histplot(movies_df[col])\n",
    "    plt.title(f'Dystrybucja {polish_column_names[i-1]}')\n",
    "    plt.xlabel(col)\n",
    "    plt.ylabel('częstotliwość')\n",
    "plt.tight_layout()\n",
    "plt.show()"
   ]
  },
  {
   "cell_type": "markdown",
   "id": "c2a51050-2f76-4df8-9355-c3e9bf07827e",
   "metadata": {},
   "source": [
    "##### Średnia ocena"
   ]
  },
  {
   "cell_type": "markdown",
   "id": "68a922e1-ae77-463d-a9b5-53fd54769e83",
   "metadata": {},
   "source": [
    "Częstotliwość średnich posiada rozkład normalny. Jest to zrozumiałe, jak większość zjawisk w przyrodzie, społeczeństwie, najczęściej spotykanę są filmy przeciętne, z oceną około 3. "
   ]
  },
  {
   "cell_type": "markdown",
   "id": "61a9e729-f7a4-4da4-ada8-7db0af42be3a",
   "metadata": {},
   "source": [
    "##### Dystrybucja budżetu"
   ]
  },
  {
   "cell_type": "markdown",
   "id": "c58d9291-ff07-42df-88ae-a6672fa999b1",
   "metadata": {},
   "source": [
    "Znacząca większość filmów posiada budżet poniżej 100 milionów dolarów, najczęscięj występuje około milion dolarów. Nieliczne produkcje posiadają budżet dochodzący nawet do 250 dolarów. Na histogramie odstępy miedzy odcinkami na odciętej wynoszą 10^8"
   ]
  },
  {
   "cell_type": "markdown",
   "id": "b8c342b8-f3cf-46d3-8013-e7d3a0d34d5c",
   "metadata": {},
   "source": [
    "##### Dystrybucja częstotliwości języka orginalnego"
   ]
  },
  {
   "cell_type": "markdown",
   "id": "fd4b29cf-9afd-4910-98fe-77e4d4d91613",
   "metadata": {},
   "source": [
    "Najczęściej spotykanym ID języka jest to należące do angielskiego. Nie jest to zaskoczeniem, jako że jest to język międzynarodowy. "
   ]
  },
  {
   "cell_type": "markdown",
   "id": "d361c449-a8a7-4a4e-9fe6-1e5328fd2776",
   "metadata": {},
   "source": [
    "##### Dystrybucja roku premiery"
   ]
  },
  {
   "cell_type": "markdown",
   "id": "97dca4b3-34c6-42eb-a3ad-80d03684cb9c",
   "metadata": {},
   "source": [
    "Zauważyć na tym histogramie można tendencję wzrostową, wraz z biegiem lat coraz więcej filmów jest produkowanych. W dodatku premiera nowego dzieła potencjalnie przyciąga uwagę klientów.  "
   ]
  },
  {
   "cell_type": "markdown",
   "id": "62110325-a6d4-4903-9700-91cec7a58b04",
   "metadata": {},
   "source": [
    "##### Dystrybucja dochodu"
   ]
  },
  {
   "cell_type": "markdown",
   "id": "b2d5df40-d220-49c9-a5dc-7f1368f3355a",
   "metadata": {},
   "source": [
    "Wiele filmów posiada "
   ]
  },
  {
   "cell_type": "markdown",
   "id": "82031237-8cf5-4593-b357-229cb272ebb3",
   "metadata": {},
   "source": [
    "##### Dystrybucja czasu trwania"
   ]
  },
  {
   "cell_type": "markdown",
   "id": "daee991c-c6ba-458f-b2f0-f9eed5f3059d",
   "metadata": {},
   "source": [
    "Najczęściej pojawiającą się wartością jest bez niespodzianki 90 minut, co jest popularną wartością dla większości filmów pełnometrażowych, animacji etc."
   ]
  },
  {
   "cell_type": "markdown",
   "id": "597d4357-d13c-4876-a29e-50e87db510fe",
   "metadata": {},
   "source": [
    "##### Kraj produkcji"
   ]
  },
  {
   "cell_type": "markdown",
   "id": "9db6230a-efa3-4ce9-bf16-8919b28c6741",
   "metadata": {},
   "source": [
    "Od kraju produkcji zależą studia, które mogły produkować film i sceneria. "
   ]
  },
  {
   "cell_type": "markdown",
   "id": "17f1aa73-faca-4491-b615-f5c71025c5fe",
   "metadata": {},
   "source": [
    "##### Dystrybucja ilości głosów na osobę"
   ]
  },
  {
   "cell_type": "markdown",
   "id": "9fdae00e-1c00-48e0-8a0a-fdf068dd8818",
   "metadata": {},
   "source": [
    "Histogram jednoznacznie pokazuje, że większość użytkowników zostawia od kilku do kilkunastu ocen. "
   ]
  },
  {
   "cell_type": "markdown",
   "id": "dc7c9fcd-829f-47b8-87b4-ba9f3e99cdb6",
   "metadata": {},
   "source": [
    "#### Tendencja przychodu na przestrzeni lat"
   ]
  },
  {
   "cell_type": "code",
   "execution_count": null,
   "id": "a751a4eb-107b-4fe6-b720-72070006654e",
   "metadata": {},
   "outputs": [
    {
     "ename": "",
     "evalue": "",
     "output_type": "error",
     "traceback": [
      "\u001b[1;31mRunning cells with 'venv (Python 3.12.3)' requires the ipykernel package.\n",
      "\u001b[1;31mRun the following command to install 'ipykernel' into the Python environment. \n",
      "\u001b[1;31mCommand: 'c:/Users/Dawid/Desktop/movie-analysis-mad/venv/Scripts/python.exe -m pip install ipykernel -U --force-reinstall'"
     ]
    }
   ],
   "source": [
    "# Plotting the trend of worldwide gross revenue over the years\n",
    "plt.figure(figsize=(12, 6))\n",
    "sns.lineplot(x='release_date', y='revenue', data=movies_df)\n",
    "plt.title('Tendencja przychodu na przestrzeni lat')\n",
    "plt.xlabel('Rok')\n",
    "\n",
    "plt.ylabel('Przygoda')\n",
    "plt.show()"
   ]
  },
  {
   "cell_type": "markdown",
   "id": "63412e5e-ee0d-42e5-ad9a-5c254dd9e916",
   "metadata": {},
   "source": [
    "#### Tendencja budżetu na przestrzeni lat"
   ]
  },
  {
   "cell_type": "code",
   "execution_count": null,
   "id": "247ded9b-52e4-475f-a293-8d83361563dc",
   "metadata": {},
   "outputs": [
    {
     "ename": "",
     "evalue": "",
     "output_type": "error",
     "traceback": [
      "\u001b[1;31mRunning cells with 'venv (Python 3.12.3)' requires the ipykernel package.\n",
      "\u001b[1;31mRun the following command to install 'ipykernel' into the Python environment. \n",
      "\u001b[1;31mCommand: 'c:/Users/Dawid/Desktop/movie-analysis-mad/venv/Scripts/python.exe -m pip install ipykernel -U --force-reinstall'"
     ]
    }
   ],
   "source": [
    "# # Plotting the trend of budget over the years\n",
    "plt.figure(figsize=(12, 6))\n",
    "sns.lineplot(x='release_date', y='budget', data=movies_df)\n",
    "plt.title('Tendencja budżetu na przestrzeni la')\n",
    "plt.xlabel('Rok')\n",
    "plt.ylabel('Budżet')\n",
    "plt.show()"
   ]
  },
  {
   "cell_type": "markdown",
   "id": "9838bff9-3076-4407-816f-588c35f4716b",
   "metadata": {},
   "source": [
    "#### Relacja między budżetem, a przychodem"
   ]
  },
  {
   "cell_type": "code",
   "execution_count": null,
   "id": "347ff0fb-d04c-4b95-bbae-b4e68a92c18c",
   "metadata": {},
   "outputs": [
    {
     "ename": "",
     "evalue": "",
     "output_type": "error",
     "traceback": [
      "\u001b[1;31mRunning cells with 'venv (Python 3.12.3)' requires the ipykernel package.\n",
      "\u001b[1;31mRun the following command to install 'ipykernel' into the Python environment. \n",
      "\u001b[1;31mCommand: 'c:/Users/Dawid/Desktop/movie-analysis-mad/venv/Scripts/python.exe -m pip install ipykernel -U --force-reinstall'"
     ]
    }
   ],
   "source": [
    "# Plotting the relationship between budget and worldwide gross revenue\n",
    "plt.figure(figsize=(12, 6))\n",
    "sns.scatterplot(x='budget', y='revenue', data=movies_df)\n",
    "plt.title('Relacja między budżetem, a przychodem')\n",
    "plt.xlabel('Budżet')\n",
    "plt.ylabel('Przychód')\n",
    "plt.show()"
   ]
  },
  {
   "cell_type": "markdown",
   "id": "d07dc08b-9c48-4bd9-b6b9-d29b8414be6d",
   "metadata": {},
   "source": [
    "#### Relacja między budżetem, a średnią oceną"
   ]
  },
  {
   "cell_type": "code",
   "execution_count": null,
   "id": "761ab227-e2ca-4792-9fe1-42a41a8ac4f4",
   "metadata": {},
   "outputs": [
    {
     "ename": "",
     "evalue": "",
     "output_type": "error",
     "traceback": [
      "\u001b[1;31mRunning cells with 'venv (Python 3.12.3)' requires the ipykernel package.\n",
      "\u001b[1;31mRun the following command to install 'ipykernel' into the Python environment. \n",
      "\u001b[1;31mCommand: 'c:/Users/Dawid/Desktop/movie-analysis-mad/venv/Scripts/python.exe -m pip install ipykernel -U --force-reinstall'"
     ]
    }
   ],
   "source": [
    "# Plotting the relationship between domestic and international gross revenue\n",
    "plt.figure(figsize=(12, 6))\n",
    "sns.scatterplot(x='avg_of_rating', y='budget', data=movies_df)\n",
    "plt.title('Relacja między budżetem, a średnią oceną')\n",
    "plt.xlabel('Budżet')\n",
    "plt.ylabel('Średnia ocena')\n",
    "plt.show()"
   ]
  },
  {
   "cell_type": "markdown",
   "id": "e2083705-ca2d-4b06-a9cf-c0897cbd9c0b",
   "metadata": {},
   "source": [
    "#### Statystyki opisowe"
   ]
  },
  {
   "cell_type": "code",
   "execution_count": null,
   "id": "72fa8b57-1b95-40d7-a81d-8c664fe172d1",
   "metadata": {},
   "outputs": [
    {
     "ename": "",
     "evalue": "",
     "output_type": "error",
     "traceback": [
      "\u001b[1;31mRunning cells with 'venv (Python 3.12.3)' requires the ipykernel package.\n",
      "\u001b[1;31mRun the following command to install 'ipykernel' into the Python environment. \n",
      "\u001b[1;31mCommand: 'c:/Users/Dawid/Desktop/movie-analysis-mad/venv/Scripts/python.exe -m pip install ipykernel -U --force-reinstall'"
     ]
    }
   ],
   "source": [
    "data = [[] for _ in range(len(numerical_columns))]\n",
    "\n",
    "for i, col in enumerate(numerical_columns, 1):\n",
    "    data[i-1].append(col)\n",
    "    data[i-1].append(round(movies_df[col].mean(), 2))\n",
    "    data[i-1].append(round(movies_df[col].median(), 2))\n",
    "    data[i-1].append(round(movies_df[col].min(), 2))\n",
    "    data[i-1].append(movies_df[col].max())\n",
    "    data[i-1].append(round(movies_df[col].std(), 2))\n",
    "    data[i-1].append(round(movies_df[col].var(), 2))\n",
    "    data[i-1].append(round(movies_df[col].sum(), 2))\n",
    "    data[i-1].append(round(movies_df[col].count(), 2))\n",
    "    data[i-1].append(round(movies_df[col].quantile(0.25), 2))\n",
    "    data[i-1].append(round(movies_df[col].skew(), 2))\n",
    "\n",
    "# tworzenie DataFrame z danymi statystycznymi i polskimi nazwami kolumn\n",
    "pd.DataFrame(data, columns=[\"Kolumna\", \"Średnia\", \"Mediana\", \"Minimum\", \"Maksimum\", \"Odchylenie standardowe\", \"Wariancja\", \"Suma\", \"Liczba wartości\", \"Kwartyl 1\", \"Skośność\"])"
   ]
  },
  {
   "cell_type": "markdown",
   "id": "dcd4abfb",
   "metadata": {},
   "source": [
    "### Braki danych"
   ]
  },
  {
   "cell_type": "markdown",
   "id": "994feb51",
   "metadata": {},
   "source": [
    "Spotkaliśmy się z wieloma brakami danych, przede wszystkim w kolumnie revenue i budget (przychód i budżet). Aby stworzony przez nas model był jak najbardziej dokładny, owe rekordy z brakami zostały usunięte. Posiadana ilość danych jest na tyle wysoka, że możemy na to sobie pozwolić. "
   ]
  },
  {
   "cell_type": "markdown",
   "id": "bca744f8",
   "metadata": {},
   "source": [
    "### Obserwacje odstające"
   ]
  },
  {
   "cell_type": "markdown",
   "id": "5c88e88d",
   "metadata": {},
   "source": [
    "Ze względu na specyfikę i różnorodność produkcji filmowych, postanowiliśmy nie usuwać odstających danych, nie zaszła taka potrzeba.  "
   ]
  },
  {
   "cell_type": "markdown",
   "id": "2d78f2cc-2246-4002-afec-c5485bc11927",
   "metadata": {},
   "source": [
    "## Klasteryzacja"
   ]
  },
  {
   "cell_type": "markdown",
   "id": "d93ad18c-1631-4d83-9c3a-0cfd07ed8d47",
   "metadata": {},
   "source": [
    "Aby utworzyć modele należy nasze dane podzielić na grupy. Do określenia naoptymalniejszej ilości grup do podziału, którą następnie wykorzystamy w modelach używamy metody k-średnich i metody łokciowej.  "
   ]
  },
  {
   "cell_type": "code",
   "execution_count": null,
   "id": "86d3c97c-20e1-41a0-ad65-13de9d7c74a4",
   "metadata": {},
   "outputs": [
    {
     "ename": "",
     "evalue": "",
     "output_type": "error",
     "traceback": [
      "\u001b[1;31mRunning cells with 'venv (Python 3.12.3)' requires the ipykernel package.\n",
      "\u001b[1;31mRun the following command to install 'ipykernel' into the Python environment. \n",
      "\u001b[1;31mCommand: 'c:/Users/Dawid/Desktop/movie-analysis-mad/venv/Scripts/python.exe -m pip install ipykernel -U --force-reinstall'"
     ]
    }
   ],
   "source": [
    "import pandas as pd\n",
    "import matplotlib.pyplot as plt\n",
    "import seaborn as sns\n",
    "from sklearn.cluster import KMeans\n",
    "\n",
    "file_path = \"output/movies_relevant_data_num_ids.csv\"\n",
    "movies_df = pd.read_csv(file_path)\n",
    "clustering_features_simple = [\n",
    "    \"adult\",\n",
    "    \"budget\",\n",
    "    \"genres\",\n",
    "    \"original_language\",\n",
    "    \"release_date\",\n",
    "    \"revenue\",\n",
    "    \"spoken_languages\",\n",
    "    \"runtime\",\n",
    "    \"production_countries\",\n",
    "    \"vote_count\",\n",
    "    \"avg_of_rating\",\n",
    "]\n",
    "\n",
    "X_clustering_simple = movies_df[clustering_features_simple]\n",
    "\n",
    "wcss = []\n",
    "for i in range(1, 11):\n",
    "    kmeans = KMeans(n_clusters=i, init=\"k-means++\", random_state=42)\n",
    "    kmeans.fit(X_clustering_simple)\n",
    "    wcss.append(kmeans.inertia_)\n",
    "\n",
    "second_derivative = (\n",
    "    [0] + [wcss[i] - 2 * wcss[i + 1] + wcss[i + 2] for i in range(len(wcss) - 2)] + [0]\n",
    ")\n",
    "\n",
    "# The optimal k is where the second derivative is maximum\n",
    "optimal_k = second_derivative.index(max(second_derivative)) + 1\n",
    "\n",
    "print(f\"Optymalna ilość grup: {optimal_k}\")\n",
    "\n",
    "# Plotting the Elbow method graph (optional)\n",
    "plt.figure(figsize=(10, 6))\n",
    "plt.plot(range(1, 11), wcss, marker=\"o\")\n",
    "plt.title(\"Elbow Method\")\n",
    "plt.xlabel(\"Number of clusters\")\n",
    "plt.ylabel(\"WCSS\")\n",
    "plt.show()\n",
    "\n",
    "# optimal_k = 2\n",
    "\n"
   ]
  },
  {
   "cell_type": "markdown",
   "id": "27fd1db6-1904-4256-bfb0-9e399f14fb01",
   "metadata": {},
   "source": [
    "Najoptymalniejsza ilością jest dwa, jako że druga pochodna przyjmuję tam największą wartość, widoczne jest to także w polu pod wykresem. Przyrost pola dla liczby jest stosunkowo już znacznie mniejszy. "
   ]
  },
  {
   "cell_type": "markdown",
   "id": "8746ecdd-70da-4735-b49d-fcc2b6b69303",
   "metadata": {},
   "source": [
    "## Wykorzystane metody badawcze"
   ]
  },
  {
   "cell_type": "markdown",
   "id": "e2490e4b-4343-47a1-bb23-68653ea96cbd",
   "metadata": {},
   "source": [
    "### 1. Model regesji logistycznej"
   ]
  },
  {
   "cell_type": "markdown",
   "id": "a350f495-e64a-4370-a2f9-8defc588306c",
   "metadata": {},
   "source": [
    "Regresja logistyczna to metoda statystyczna stosowana do przewidywania prawdopodobieństwa wystąpienia zdarzenia binarnego. Jest to powszechnie stosowana technika w uczeniu maszynowym ze względu na jej prostotę i interpretowalność."
   ]
  },
  {
   "cell_type": "markdown",
   "id": "069f5411",
   "metadata": {},
   "source": [
    "* Źródło: *Hosmer, Fred A. Jr., Stanley Lemeshow. (2004). A Primer on Logistic Regression. Journal of the National Cancer Institute 96, nr 2: 102-107. https://pubmed.ncbi.nlm.nih.gov/34952854*"
   ]
  },
  {
   "cell_type": "markdown",
   "id": "d7eb58da",
   "metadata": {},
   "source": [
    "### 2. Model K najbliższych sąsiadów (KNN)"
   ]
  },
  {
   "cell_type": "markdown",
   "id": "3931825e",
   "metadata": {},
   "source": [
    "Jest to algorytm, który klasyfikuje nowe punkty danych na podstawie ich podobieństwa do istniejących punktów danych w zbiorze treningowym.\n",
    "\n"
   ]
  },
  {
   "cell_type": "markdown",
   "id": "e13669fe",
   "metadata": {},
   "source": [
    "* Źródło: *Mohseni, Mehrzad, Payam Ghahramani, Richard E. Fremouw. (2007). K-Nearest Neighbors for Multi-Label Classification. Proceedings of the 24th International Conference on Machine Learning. 1-2. https://www.jmlr.org/papers/volume25/23-0286/23-0286.pdf.*"
   ]
  },
  {
   "cell_type": "markdown",
   "id": "08e3a2d5",
   "metadata": {},
   "source": [
    "### 3. Model SVC (Support Vector Classification)\n",
    "\n",
    "Jest to metoda, która znajduje granice decyzyjne między klasami danych poprzez identyfikację wektorów podporowych."
   ]
  },
  {
   "cell_type": "markdown",
   "id": "cac8b393",
   "metadata": {},
   "source": [
    "- Źródło: *Joachim, Thorsten. (2011). Support Vector Machines. Applied Mathematics and Optimization 62, nr. 2: 443-474. https://link.springer.com/chapter/10.1007/0-387-25465-X_12.*"
   ]
  },
  {
   "cell_type": "markdown",
   "id": "0fcd2159-00a1-44be-895f-f8b5ae272e42",
   "metadata": {},
   "source": [
    "#### Uzyskane wyniki"
   ]
  },
  {
   "cell_type": "markdown",
   "id": "fe6f5792-27e6-49bc-9263-2b941de045c9",
   "metadata": {},
   "source": [
    "## Wnioski"
   ]
  },
  {
   "cell_type": "markdown",
   "id": "0c71be1f-dcac-48dc-9301-7b14fccc6024",
   "metadata": {},
   "source": [
    "## Bibliografia"
   ]
  },
  {
   "cell_type": "markdown",
   "id": "9aba06ce-c038-4672-ad1d-bdc6755c4ef1",
   "metadata": {},
   "source": [
    "*Hosmer, Fred A. Jr., Stanley Lemeshow. (2004). A Primer on Logistic Regression. Journal of the National Cancer Institute 96, nr 2: 102-107. https://pubmed.ncbi.nlm.nih.gov/34952854*\n",
    "\n",
    "*Mohseni, Mehrzad, Payam Ghahramani, Richard E. Fremouw. (2007). K-Nearest Neighbors for Multi-Label Classification. Proceedings of the 24th International Conference on Machine Learning. 1-2. https://www.jmlr.org/papers/volume25/23-0286/23-0286.pdf.*"
   ]
  },
  {
   "cell_type": "markdown",
   "id": "006ac777",
   "metadata": {},
   "source": [
    "*Joachim, Thorsten. (2011). Support Vector Machines. Applied Mathematics and Optimization 62, nr. 2: 443-474. https://link.springer.com/chapter/10.1007/0-387-25465-X_12.*"
   ]
  }
 ],
 "metadata": {
  "citation-manager": {
   "items": {}
  },
  "kernelspec": {
   "display_name": "Python 3 (ipykernel)",
   "language": "python",
   "name": "python3"
  },
  "language_info": {
   "codemirror_mode": {
    "name": "ipython",
    "version": 3
   },
   "file_extension": ".py",
   "mimetype": "text/x-python",
   "name": "python",
   "nbconvert_exporter": "python",
   "pygments_lexer": "ipython3",
   "version": "3.12.3"
  }
 },
 "nbformat": 4,
 "nbformat_minor": 5
}
